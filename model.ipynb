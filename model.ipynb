{
 "cells": [
  {
   "cell_type": "code",
   "execution_count": 19,
   "metadata": {},
   "outputs": [],
   "source": [
    "import pandas as pd\n",
    "import logging\n",
    "import pandas as pd\n",
    "import numpy as np\n",
    "from numpy import random\n",
    "import nltk\n",
    "from sklearn.model_selection import train_test_split\n",
    "from sklearn.feature_extraction.text import CountVectorizer, TfidfVectorizer\n",
    "from sklearn.metrics import accuracy_score, confusion_matrix\n",
    "import matplotlib.pyplot as plt\n",
    "from nltk.corpus import stopwords\n",
    "import re\n",
    "import numpy as np\n",
    "import re"
   ]
  },
  {
   "cell_type": "code",
   "execution_count": 2,
   "metadata": {},
   "outputs": [
    {
     "data": {
      "text/plain": [
       "(18371, 2)"
      ]
     },
     "execution_count": 2,
     "metadata": {},
     "output_type": "execute_result"
    }
   ],
   "source": [
    "data = pd.read_csv(\"Data/dataset.csv\")\n",
    "data = data.dropna()\n",
    "data.shape"
   ]
  },
  {
   "cell_type": "code",
   "execution_count": 12,
   "metadata": {},
   "outputs": [],
   "source": [
    "\n",
    "def clean_text(text):\n",
    "    \n",
    "    \"\"\"\n",
    "        text: a string\n",
    "        \n",
    "        return: modified initial string\n",
    "    \"\"\"\n",
    "     # HTML decoding\n",
    "    text = text.lower() # lowercase text\n",
    "    text = REPLACE_BY_SPACE_RE.sub(' ', text) # replace REPLACE_BY_SPACE_RE symbols by space in text\n",
    "    text = BAD_SYMBOLS_RE.sub('', text) # delete symbols which are in BAD_SYMBOLS_RE from text\n",
    "    text = ' '.join(word for word in text.split() if word not in STOPWORDS) # delete stopwors from text\n",
    "    return text\n",
    "    \n",
    "data['Content'] = data['Content'].apply(clean_text)"
   ]
  },
  {
   "cell_type": "code",
   "execution_count": 13,
   "metadata": {},
   "outputs": [
    {
     "data": {
      "text/plain": [
       "2673030"
      ]
     },
     "execution_count": 13,
     "metadata": {},
     "output_type": "execute_result"
    }
   ],
   "source": [
    "data['Content'].apply(lambda x: len(x.split(' '))).sum()"
   ]
  },
  {
   "cell_type": "code",
   "execution_count": 14,
   "metadata": {},
   "outputs": [],
   "source": [
    "from sklearn.model_selection import train_test_split"
   ]
  },
  {
   "cell_type": "code",
   "execution_count": 27,
   "metadata": {},
   "outputs": [],
   "source": [
    "X = data.Content\n",
    "y = data.Label\n",
    "X_train, X_test, y_train, y_test = train_test_split(X, y, test_size=0.1, random_state = 42)"
   ]
  },
  {
   "cell_type": "code",
   "execution_count": 36,
   "metadata": {},
   "outputs": [],
   "source": [
    "import seaborn as sns\n",
    "from sklearn.metrics import precision_score, recall_score, confusion_matrix, classification_report, accuracy_score, f1_score\n",
    "def acc(y_test,y_pred):\n",
    "\n",
    "    ### PRINTING ACCURACY OF PREDICTION\n",
    "    ### RECALL\n",
    "    ### PRECISION\n",
    "    ### CLASIFICATION REPORT\n",
    "    ### CONFUSION MATRIX\n",
    "    cm = confusion_matrix(y_test, y_pred)\n",
    "    recall = np.diag(cm) / np.sum(cm, axis = 1)\n",
    "    precision = np.diag(cm) / np.sum(cm, axis = 0)\n",
    "    \n",
    "    print ('Recall:', recall)\n",
    "    print ('Precision:', precision)\n",
    "    print ('\\n clasification report:\\n', classification_report(y_test,y_pred))\n",
    "    print ('\\n confussion matrix:\\n',confusion_matrix(y_test, y_pred))\n",
    "    \n",
    "    ax = sns.heatmap(confusion_matrix(y_test, y_pred),linewidths= 0.5,cmap=\"YlGnBu\")"
   ]
  },
  {
   "cell_type": "code",
   "execution_count": 38,
   "metadata": {},
   "outputs": [
    {
     "name": "stdout",
     "output_type": "stream",
     "text": [
      "accuracy 0.4504896626768226\n",
      "Recall: [0.86069652 0.01769912 0.54587156 0.02380952 0.24782609 0.33540373\n",
      " 0.33023256 0.90434783 0.58024691 0.33649289 0.25531915]\n",
      "Precision: [0.25329429 1.         0.66853933 1.         0.45238095 0.93103448\n",
      " 0.75531915 0.39097744 0.97916667 0.78021978 1.        ]\n",
      "\n",
      " clasification report:\n",
      "               precision    recall  f1-score   support\n",
      "\n",
      "         0.0       0.25      0.86      0.39       201\n",
      "         1.0       1.00      0.02      0.03       113\n",
      "         2.0       0.67      0.55      0.60       218\n",
      "         3.0       1.00      0.02      0.05        84\n",
      "         4.0       0.45      0.25      0.32       230\n",
      "         5.0       0.93      0.34      0.49       161\n",
      "         6.0       0.76      0.33      0.46       215\n",
      "         7.0       0.39      0.90      0.55       230\n",
      "         8.0       0.98      0.58      0.73        81\n",
      "         9.0       0.78      0.34      0.47       211\n",
      "        10.0       1.00      0.26      0.41        94\n",
      "\n",
      "    accuracy                           0.45      1838\n",
      "   macro avg       0.75      0.40      0.41      1838\n",
      "weighted avg       0.67      0.45      0.43      1838\n",
      "\n",
      "\n",
      " confussion matrix:\n",
      " [[173   0   6   0   2   0   1  19   0   0   0]\n",
      " [  9   2   3   0   0   0   2  97   0   0   0]\n",
      " [ 52   0 119   0  11   0   2  34   0   0   0]\n",
      " [ 56   0   1   2  14   0   2   7   0   2   0]\n",
      " [111   0   8   0  57   1   1  52   0   0   0]\n",
      " [ 46   0   5   0  28  54   4  19   0   5   0]\n",
      " [ 65   0  11   0   1   0  71  61   0   6   0]\n",
      " [ 16   0   3   0   1   0   2 208   0   0   0]\n",
      " [ 25   0   0   0   2   0   1   3  47   3   0]\n",
      " [ 93   0  17   0   8   2   7  12   1  71   0]\n",
      " [ 37   0   5   0   2   1   1  20   0   4  24]]\n"
     ]
    },
    {
     "data": {
      "image/png": "[encoded data removed]",
      "text/plain": [
       "<Figure size 432x288 with 2 Axes>"
      ]
     },
     "metadata": {
      "needs_background": "light"
     },
     "output_type": "display_data"
    }
   ],
   "source": [
    "from sklearn.naive_bayes import MultinomialNB\n",
    "from sklearn.pipeline import Pipeline\n",
    "from sklearn.feature_extraction.text import TfidfTransformer\n",
    "\n",
    "nb = Pipeline([('vect', CountVectorizer()),\n",
    "               ('tfidf', TfidfTransformer()),\n",
    "               ('clf', MultinomialNB()),\n",
    "              ])\n",
    "nb.fit(X_train, y_train)\n",
    "\n",
    "\n",
    "from sklearn.metrics import classification_report\n",
    "y_pred = nb.predict(X_test)\n",
    "\n",
    "print('accuracy %s' % accuracy_score(y_pred, y_test))\n",
    "acc(y_test,y_pred)"
   ]
  },
  {
   "cell_type": "code",
   "execution_count": 39,
   "metadata": {},
   "outputs": [
    {
     "name": "stdout",
     "output_type": "stream",
     "text": [
      "accuracy 0.6637649619151251\n",
      "Recall: [0.71641791 0.4159292  0.88073394 0.51190476 0.36086957 0.75776398\n",
      " 0.62325581 0.82173913 0.77777778 0.63981043 0.72340426]\n",
      "Precision: [0.55813953 0.8245614  0.60952381 0.82692308 0.74774775 0.70520231\n",
      " 0.64114833 0.61563518 0.9        0.68181818 0.77272727]\n",
      "\n",
      " clasification report:\n",
      "               precision    recall  f1-score   support\n",
      "\n",
      "         0.0       0.56      0.72      0.63       201\n",
      "         1.0       0.82      0.42      0.55       113\n",
      "         2.0       0.61      0.88      0.72       218\n",
      "         3.0       0.83      0.51      0.63        84\n",
      "         4.0       0.75      0.36      0.49       230\n",
      "         5.0       0.71      0.76      0.73       161\n",
      "         6.0       0.64      0.62      0.63       215\n",
      "         7.0       0.62      0.82      0.70       230\n",
      "         8.0       0.90      0.78      0.83        81\n",
      "         9.0       0.68      0.64      0.66       211\n",
      "        10.0       0.77      0.72      0.75        94\n",
      "\n",
      "    accuracy                           0.66      1838\n",
      "   macro avg       0.72      0.66      0.67      1838\n",
      "weighted avg       0.69      0.66      0.65      1838\n",
      "\n",
      "\n",
      " confussion matrix:\n",
      " [[144   2  22   1   4   1  12  13   1   1   0]\n",
      " [  4  47   5   1   1   3   2  44   1   2   3]\n",
      " [  5   0 192   0   3   3   6   7   0   1   1]\n",
      " [  6   0   5  43   2   9   5   3   0  10   1]\n",
      " [ 50   1  31   2  83  14  16  29   0   3   1]\n",
      " [  4   2   6   1   4 122   4   2   1  14   1]\n",
      " [ 13   1  21   1   5   3 134  14   1  16   6]\n",
      " [  9   1   9   1   4   0  14 189   0   2   1]\n",
      " [  4   0   0   1   1   3   2   1  63   5   1]\n",
      " [ 18   2  21   1   3  11  10   2   3 135   5]\n",
      " [  1   1   3   0   1   4   4   3   0   9  68]]\n"
     ]
    },
    {
     "data": {
      "image/png": "[encoded data removed]",
      "text/plain": [
       "<Figure size 432x288 with 2 Axes>"
      ]
     },
     "metadata": {
      "needs_background": "light"
     },
     "output_type": "display_data"
    }
   ],
   "source": [
    "from sklearn.linear_model import SGDClassifier\n",
    "\n",
    "sgd = Pipeline([('vect', CountVectorizer()),\n",
    "                ('tfidf', TfidfTransformer()),\n",
    "                ('clf', SGDClassifier(loss='hinge', penalty='l2',alpha=1e-3, random_state=42, max_iter=10, tol=None)),\n",
    "               ])\n",
    "sgd.fit(X_train, y_train)\n",
    "\n",
    "\n",
    "\n",
    "y_pred = sgd.predict(X_test)\n",
    "\n",
    "print('accuracy %s' % accuracy_score(y_pred, y_test))\n",
    "acc(y_test,y_pred)"
   ]
  },
  {
   "cell_type": "code",
   "execution_count": 40,
   "metadata": {},
   "outputs": [
    {
     "name": "stdout",
     "output_type": "stream",
     "text": [
      "accuracy 0.6632208922742111\n",
      "Recall: [0.61691542 0.5840708  0.71559633 0.5952381  0.54347826 0.72670807\n",
      " 0.58604651 0.72608696 0.85185185 0.67298578 0.81914894]\n",
      "Precision: [0.60487805 0.6875     0.67826087 0.71428571 0.5733945  0.75\n",
      " 0.66315789 0.63257576 0.71134021 0.65437788 0.81052632]\n",
      "\n",
      " clasification report:\n",
      "               precision    recall  f1-score   support\n",
      "\n",
      "         0.0       0.60      0.62      0.61       201\n",
      "         1.0       0.69      0.58      0.63       113\n",
      "         2.0       0.68      0.72      0.70       218\n",
      "         3.0       0.71      0.60      0.65        84\n",
      "         4.0       0.57      0.54      0.56       230\n",
      "         5.0       0.75      0.73      0.74       161\n",
      "         6.0       0.66      0.59      0.62       215\n",
      "         7.0       0.63      0.73      0.68       230\n",
      "         8.0       0.71      0.85      0.78        81\n",
      "         9.0       0.65      0.67      0.66       211\n",
      "        10.0       0.81      0.82      0.81        94\n",
      "\n",
      "    accuracy                           0.66      1838\n",
      "   macro avg       0.68      0.68      0.68      1838\n",
      "weighted avg       0.66      0.66      0.66      1838\n",
      "\n",
      "\n",
      " confussion matrix:\n",
      " [[124   3  14   2  23   2  10  12   3   8   0]\n",
      " [  2  66   3   0   0   3   6  28   0   3   2]\n",
      " [  7   2 156   3  18   5   9  10   1   6   1]\n",
      " [  6   2   1  50   5   8   3   2   0   7   0]\n",
      " [ 24   3  14   6 125   7  14  25   2  10   0]\n",
      " [  3   6   4   3   3 117   2   1   7  12   3]\n",
      " [ 10   2  19   0  17   1 126  17   1  17   5]\n",
      " [ 11   6   7   0  18   0  15 167   0   5   1]\n",
      " [  2   1   0   2   2   2   0   0  69   2   1]\n",
      " [ 15   5   9   4   6   7   5   1  12 142   5]\n",
      " [  1   0   3   0   1   4   0   1   2   5  77]]\n"
     ]
    },
    {
     "data": {
      "image/png": "[encoded data removed]",
      "text/plain": [
       "<Figure size 432x288 with 2 Axes>"
      ]
     },
     "metadata": {
      "needs_background": "light"
     },
     "output_type": "display_data"
    }
   ],
   "source": [
    "from sklearn.linear_model import LogisticRegression\n",
    "\n",
    "logreg = Pipeline([('vect', CountVectorizer()),\n",
    "                ('tfidf', TfidfTransformer()),\n",
    "                ('clf', LogisticRegression(n_jobs=4, C=1e5)),\n",
    "               ])\n",
    "logreg.fit(X_train, y_train)\n",
    "\n",
    "y_pred = logreg.predict(X_test)\n",
    "\n",
    "print('accuracy %s' % accuracy_score(y_pred, y_test))\n",
    "acc(y_test,y_pred)"
   ]
  },
  {
   "cell_type": "code",
   "execution_count": 43,
   "metadata": {},
   "outputs": [
    {
     "name": "stdout",
     "output_type": "stream",
     "text": [
      "Collecting gensim\n",
      "\u001b[?25l  Downloading https://files.pythonhosted.org/packages/7d/d9/e69c5c556f16b9ac04ecd3523b39c64fbd15524bfb40cd923497bd16b6a0/gensim-3.8.2-cp37-cp37m-manylinux1_x86_64.whl (24.2MB)\n",
      "\u001b[K     |████████████████████████████████| 24.2MB 3.2MB/s eta 0:00:011\n",
      "\u001b[?25hRequirement already satisfied: six>=1.5.0 in ./midas/lib/python3.7/site-packages (from gensim) (1.14.0)\n",
      "Requirement already satisfied: scipy>=1.0.0 in ./midas/lib/python3.7/site-packages (from gensim) (1.4.1)\n",
      "Collecting smart-open>=1.8.1 (from gensim)\n",
      "\u001b[?25l  Downloading https://files.pythonhosted.org/packages/5d/13/a2db017db801d0157fdc41814658396e6ae398d06adf69d73df1c8175b5d/smart_open-1.11.1.tar.gz (105kB)\n",
      "\u001b[K     |████████████████████████████████| 112kB 4.9MB/s eta 0:00:01\n",
      "\u001b[?25hRequirement already satisfied: numpy>=1.11.3 in ./midas/lib/python3.7/site-packages (from gensim) (1.18.3)\n",
      "Requirement already satisfied: requests in ./midas/lib/python3.7/site-packages (from smart-open>=1.8.1->gensim) (2.23.0)\n",
      "Collecting boto (from smart-open>=1.8.1->gensim)\n",
      "\u001b[?25l  Downloading https://files.pythonhosted.org/packages/23/10/c0b78c27298029e4454a472a1919bde20cb182dab1662cec7f2ca1dcc523/boto-2.49.0-py2.py3-none-any.whl (1.4MB)\n",
      "\u001b[K     |████████████████████████████████| 1.4MB 5.6MB/s eta 0:00:01\n",
      "\u001b[?25hRequirement already satisfied: boto3 in ./midas/lib/python3.7/site-packages (from smart-open>=1.8.1->gensim) (1.12.46)\n",
      "Requirement already satisfied: idna<3,>=2.5 in ./midas/lib/python3.7/site-packages (from requests->smart-open>=1.8.1->gensim) (2.9)\n",
      "Requirement already satisfied: urllib3!=1.25.0,!=1.25.1,<1.26,>=1.21.1 in ./midas/lib/python3.7/site-packages (from requests->smart-open>=1.8.1->gensim) (1.25.9)\n",
      "Requirement already satisfied: chardet<4,>=3.0.2 in ./midas/lib/python3.7/site-packages (from requests->smart-open>=1.8.1->gensim) (3.0.4)\n",
      "Requirement already satisfied: certifi>=2017.4.17 in ./midas/lib/python3.7/site-packages (from requests->smart-open>=1.8.1->gensim) (2020.4.5.1)\n",
      "Requirement already satisfied: s3transfer<0.4.0,>=0.3.0 in ./midas/lib/python3.7/site-packages (from boto3->smart-open>=1.8.1->gensim) (0.3.3)\n",
      "Requirement already satisfied: jmespath<1.0.0,>=0.7.1 in ./midas/lib/python3.7/site-packages (from boto3->smart-open>=1.8.1->gensim) (0.9.5)\n",
      "Requirement already satisfied: botocore<1.16.0,>=1.15.46 in ./midas/lib/python3.7/site-packages (from boto3->smart-open>=1.8.1->gensim) (1.15.46)\n",
      "Requirement already satisfied: python-dateutil<3.0.0,>=2.1 in ./midas/lib/python3.7/site-packages (from botocore<1.16.0,>=1.15.46->boto3->smart-open>=1.8.1->gensim) (2.8.1)\n",
      "Requirement already satisfied: docutils<0.16,>=0.10 in ./midas/lib/python3.7/site-packages (from botocore<1.16.0,>=1.15.46->boto3->smart-open>=1.8.1->gensim) (0.15.2)\n",
      "Building wheels for collected packages: smart-open\n",
      "  Building wheel for smart-open (setup.py) ... \u001b[?25ldone\n",
      "\u001b[?25h  Created wheel for smart-open: filename=smart_open-1.11.1-cp37-none-any.whl size=95256 sha256=4315c86d15f53c12468ae00c8755a05d01a7c6353cdcac4f659937f0c8351a8d\n",
      "  Stored in directory: /home/ravi/.cache/pip/wheels/51/88/6c/2bcd305b87c1e62cbcbf419e782ad9fc612cd4bbb71557502d\n",
      "Successfully built smart-open\n",
      "Installing collected packages: boto, smart-open, gensim\n",
      "Successfully installed boto-2.49.0 gensim-3.8.2 smart-open-1.11.1\n",
      "\u001b[33mWARNING: You are using pip version 19.2.3, however version 20.0.2 is available.\n",
      "You should consider upgrading via the 'pip install --upgrade pip' command.\u001b[0m\n"
     ]
    }
   ],
   "source": [
    "!pip install gensim"
   ]
  },
  {
   "cell_type": "code",
   "execution_count": 52,
   "metadata": {},
   "outputs": [
    {
     "name": "stderr",
     "output_type": "stream",
     "text": [
      "/home/ravi/Data Science/MIDAS 2020/midas/lib/python3.7/site-packages/tqdm/std.py:666: FutureWarning: The Panel class is removed from pandas. Accessing it from the top-level namespace will also be removed in the next version\n",
      "  from pandas import Panel\n"
     ]
    }
   ],
   "source": [
    "from tqdm import tqdm\n",
    "tqdm.pandas(desc=\"progress-bar\")\n",
    "from gensim.models import Doc2Vec\n",
    "from sklearn import utils\n",
    "import gensim\n",
    "from gensim.models.doc2vec import TaggedDocument\n",
    "import re\n",
    "\n",
    "def label_sentences(corpus, label_type):\n",
    "    \"\"\"\n",
    "    Gensim's Doc2Vec implementation requires each document/paragraph to have a label associated with it.\n",
    "    We do this by using the TaggedDocument method. The format will be \"TRAIN_i\" or \"TEST_i\" where \"i\" is\n",
    "    a dummy index of the post.\n",
    "    \"\"\"\n",
    "    labeled = []\n",
    "    for i, v in enumerate(corpus):\n",
    "        label = label_type + '_' + str(i)\n",
    "        labeled.append(TaggedDocument(v.split(), [label]))\n",
    "    return labeled\n",
    "X_train, X_test, y_train, y_test = train_test_split(data.Content, data.Label, random_state=0, test_size=0.1)\n",
    "# X_train = label_sentences(X_train, 'Train')\n",
    "# X_test = label_sentences(X_test, 'Test')\n",
    "# all_data = X_train + X_test"
   ]
  },
  {
   "cell_type": "code",
   "execution_count": 47,
   "metadata": {},
   "outputs": [
    {
     "name": "stderr",
     "output_type": "stream",
     "text": [
      "100%|██████████| 18371/18371 [00:00<00:00, 1733956.50it/s]\n",
      "100%|██████████| 18371/18371 [00:00<00:00, 1814391.04it/s]\n",
      "100%|██████████| 18371/18371 [00:00<00:00, 1644651.32it/s]\n",
      "100%|██████████| 18371/18371 [00:00<00:00, 1947370.57it/s]\n",
      "100%|██████████| 18371/18371 [00:00<00:00, 1874326.41it/s]\n",
      "100%|██████████| 18371/18371 [00:00<00:00, 1933784.04it/s]\n",
      "100%|██████████| 18371/18371 [00:00<00:00, 1917232.12it/s]\n",
      "100%|██████████| 18371/18371 [00:00<00:00, 1879309.26it/s]\n",
      "100%|██████████| 18371/18371 [00:00<00:00, 1677447.67it/s]\n",
      "100%|██████████| 18371/18371 [00:00<00:00, 1094868.48it/s]\n",
      "100%|██████████| 18371/18371 [00:00<00:00, 1665950.85it/s]\n",
      "100%|██████████| 18371/18371 [00:00<00:00, 2008433.70it/s]\n",
      "100%|██████████| 18371/18371 [00:00<00:00, 1888428.76it/s]\n",
      "100%|██████████| 18371/18371 [00:00<00:00, 1915468.68it/s]\n",
      "100%|██████████| 18371/18371 [00:00<00:00, 2009795.74it/s]\n",
      "100%|██████████| 18371/18371 [00:00<00:00, 2059099.40it/s]\n",
      "100%|██████████| 18371/18371 [00:00<00:00, 1967308.16it/s]\n",
      "100%|██████████| 18371/18371 [00:00<00:00, 2014156.18it/s]\n",
      "100%|██████████| 18371/18371 [00:00<00:00, 1640589.32it/s]\n",
      "100%|██████████| 18371/18371 [00:00<00:00, 1388827.87it/s]\n",
      "100%|██████████| 18371/18371 [00:00<00:00, 1760137.94it/s]\n",
      "100%|██████████| 18371/18371 [00:00<00:00, 1954433.96it/s]\n",
      "100%|██████████| 18371/18371 [00:00<00:00, 1413256.28it/s]\n",
      "100%|██████████| 18371/18371 [00:00<00:00, 1922973.77it/s]\n",
      "100%|██████████| 18371/18371 [00:00<00:00, 1031203.11it/s]\n",
      "100%|██████████| 18371/18371 [00:00<00:00, 1922685.87it/s]\n",
      "100%|██████████| 18371/18371 [00:00<00:00, 1238444.80it/s]\n",
      "100%|██████████| 18371/18371 [00:00<00:00, 1866245.85it/s]\n",
      "100%|██████████| 18371/18371 [00:00<00:00, 2021182.98it/s]\n",
      "100%|██████████| 18371/18371 [00:00<00:00, 1694155.02it/s]\n",
      "100%|██████████| 18371/18371 [00:00<00:00, 1960899.83it/s]\n"
     ]
    }
   ],
   "source": [
    "import gensim\n",
    "from gensim.models import doc2vec \n",
    "model_dbow = Doc2Vec(dm=0, vector_size=300, negative=5, min_count=1, alpha=0.065, min_alpha=0.065)\n",
    "model_dbow.build_vocab([x for x in tqdm(all_data)])\n",
    "\n",
    "for epoch in range(30):\n",
    "    model_dbow.train(utils.shuffle([x for x in tqdm(all_data)]), total_examples=len(all_data), epochs=1)\n",
    "    model_dbow.alpha -= 0.002\n",
    "    model_dbow.min_alpha = model_dbow.alpha"
   ]
  },
  {
   "cell_type": "code",
   "execution_count": 48,
   "metadata": {},
   "outputs": [],
   "source": [
    "def get_vectors(model, corpus_size, vectors_size, vectors_type):\n",
    "\n",
    "    vectors = np.zeros((corpus_size, vectors_size))\n",
    "    for i in range(0, corpus_size):\n",
    "        prefix = vectors_type + '_' + str(i)\n",
    "        vectors[i] = model.docvecs[prefix]\n",
    "    return vectors\n",
    "    \n",
    "train_vectors_dbow = get_vectors(model_dbow, len(X_train), 300, 'Train')\n",
    "test_vectors_dbow = get_vectors(model_dbow, len(X_test), 300, 'Test')"
   ]
  },
  {
   "cell_type": "code",
   "execution_count": 49,
   "metadata": {},
   "outputs": [
    {
     "name": "stdout",
     "output_type": "stream",
     "text": [
      "accuracy 0.6572361262241567\n",
      "Recall: [0.6371308  0.56842105 0.77114428 0.64615385 0.51339286 0.75903614\n",
      " 0.63793103 0.66519824 0.72222222 0.66363636 0.67901235]\n",
      "Precision: [0.70560748 0.59340659 0.66523605 0.66666667 0.53488372 0.65968586\n",
      " 0.68837209 0.67410714 0.86666667 0.62660944 0.6547619 ]\n",
      "\n",
      " clasification report:\n",
      "               precision    recall  f1-score   support\n",
      "\n",
      "         0.0       0.71      0.64      0.67       237\n",
      "         1.0       0.59      0.57      0.58        95\n",
      "         2.0       0.67      0.77      0.71       201\n",
      "         3.0       0.67      0.65      0.66        65\n",
      "         4.0       0.53      0.51      0.52       224\n",
      "         5.0       0.66      0.76      0.71       166\n",
      "         6.0       0.69      0.64      0.66       232\n",
      "         7.0       0.67      0.67      0.67       227\n",
      "         8.0       0.87      0.72      0.79        90\n",
      "         9.0       0.63      0.66      0.64       220\n",
      "        10.0       0.65      0.68      0.67        81\n",
      "\n",
      "    accuracy                           0.66      1838\n",
      "   macro avg       0.67      0.66      0.66      1838\n",
      "weighted avg       0.66      0.66      0.66      1838\n",
      "\n",
      "\n",
      " confussion matrix:\n",
      " [[151   1  16   2  16   2  11  19   4  14   1]\n",
      " [  1  54   2   0   4   8   8  13   0   5   0]\n",
      " [  3   1 155   1  10   2   7   7   0  14   1]\n",
      " [  1   1   0  42   5   8   2   1   0   3   2]\n",
      " [ 27   6  26   1 115  12  11  14   2   6   4]\n",
      " [  1   0   2   2   9 126   1   1   1  14   9]\n",
      " [  8   7  10   5  15   2 148  17   2  18   0]\n",
      " [  5  18  11   0  26   3   9 151   1   1   2]\n",
      " [  2   0   0   1   4   7   1   1  65   5   4]\n",
      " [ 14   1  10   6   8  14  15   0   0 146   6]\n",
      " [  1   2   1   3   3   7   2   0   0   7  55]]\n",
      "None\n"
     ]
    },
    {
     "data": {
      "image/png": "[encoded data removed]",
      "text/plain": [
       "<Figure size 432x288 with 2 Axes>"
      ]
     },
     "metadata": {
      "needs_background": "light"
     },
     "output_type": "display_data"
    }
   ],
   "source": [
    "logreg = LogisticRegression(n_jobs=4, C=1e5)\n",
    "logreg.fit(train_vectors_dbow, y_train)\n",
    "logreg = logreg.fit(train_vectors_dbow, y_train)\n",
    "y_pred = logreg.predict(test_vectors_dbow)\n",
    "print('accuracy %s' % accuracy_score(y_pred, y_test))\n",
    "print(acc(y_test, y_pred))"
   ]
  },
  {
   "cell_type": "code",
   "execution_count": 50,
   "metadata": {},
   "outputs": [
    {
     "name": "stdout",
     "output_type": "stream",
     "text": [
      "accuracy 0.6572361262241567\n",
      "Recall: [0.6371308  0.56842105 0.77114428 0.64615385 0.51339286 0.75903614\n",
      " 0.63793103 0.66519824 0.72222222 0.66363636 0.67901235]\n",
      "Precision: [0.70560748 0.59340659 0.66523605 0.66666667 0.53488372 0.65968586\n",
      " 0.68837209 0.67410714 0.86666667 0.62660944 0.6547619 ]\n",
      "\n",
      " clasification report:\n",
      "               precision    recall  f1-score   support\n",
      "\n",
      "         0.0       0.71      0.64      0.67       237\n",
      "         1.0       0.59      0.57      0.58        95\n",
      "         2.0       0.67      0.77      0.71       201\n",
      "         3.0       0.67      0.65      0.66        65\n",
      "         4.0       0.53      0.51      0.52       224\n",
      "         5.0       0.66      0.76      0.71       166\n",
      "         6.0       0.69      0.64      0.66       232\n",
      "         7.0       0.67      0.67      0.67       227\n",
      "         8.0       0.87      0.72      0.79        90\n",
      "         9.0       0.63      0.66      0.64       220\n",
      "        10.0       0.65      0.68      0.67        81\n",
      "\n",
      "    accuracy                           0.66      1838\n",
      "   macro avg       0.67      0.66      0.66      1838\n",
      "weighted avg       0.66      0.66      0.66      1838\n",
      "\n",
      "\n",
      " confussion matrix:\n",
      " [[151   1  16   2  16   2  11  19   4  14   1]\n",
      " [  1  54   2   0   4   8   8  13   0   5   0]\n",
      " [  3   1 155   1  10   2   7   7   0  14   1]\n",
      " [  1   1   0  42   5   8   2   1   0   3   2]\n",
      " [ 27   6  26   1 115  12  11  14   2   6   4]\n",
      " [  1   0   2   2   9 126   1   1   1  14   9]\n",
      " [  8   7  10   5  15   2 148  17   2  18   0]\n",
      " [  5  18  11   0  26   3   9 151   1   1   2]\n",
      " [  2   0   0   1   4   7   1   1  65   5   4]\n",
      " [ 14   1  10   6   8  14  15   0   0 146   6]\n",
      " [  1   2   1   3   3   7   2   0   0   7  55]]\n",
      "None\n"
     ]
    },
    {
     "data": {
      "image/png": "[encoded data removed]",
      "text/plain": [
       "<Figure size 432x288 with 2 Axes>"
      ]
     },
     "metadata": {
      "needs_background": "light"
     },
     "output_type": "display_data"
    }
   ],
   "source": [
    "y_pred = logreg.predict(test_vectors_dbow)\n",
    "print('accuracy %s' % accuracy_score(y_pred, y_test))\n",
    "print(acc(y_test, y_pred))"
   ]
  },
  {
   "cell_type": "code",
   "execution_count": 54,
   "metadata": {},
   "outputs": [],
   "source": [
    "import pickle\n",
    "with open('sgd.pkl', 'wb') as file:\n",
    "\n",
    "    # dump information to that file\n",
    "    pickle.dump(sgd, file)"
   ]
  },
  {
   "cell_type": "code",
   "execution_count": 55,
   "metadata": {},
   "outputs": [],
   "source": [
    "with open('sgd.pkl', 'rb') as file:\n",
    "\n",
    "    # dump information to that file\n",
    "    data = pickle.load(file)"
   ]
  },
  {
   "cell_type": "code",
   "execution_count": 57,
   "metadata": {},
   "outputs": [
    {
     "data": {
      "text/plain": [
       "array([6., 0., 5., ..., 7., 4., 2.])"
      ]
     },
     "execution_count": 57,
     "metadata": {},
     "output_type": "execute_result"
    }
   ],
   "source": [
    "data.predict(X_test)"
   ]
  },
  {
   "cell_type": "code",
   "execution_count": 60,
   "metadata": {},
   "outputs": [
    {
     "data": {
      "text/plain": [
       "array(['jayati ghosh professor economics jawaharlal nehru university jnu jnu one best universities india asia possibly world amazing combination good faculty bright students diverse students oh well well well going fun government step create demand basic economics amen government increasing supply demand https enwikipediaorg wiki supplyside_economics lowering corporate tax rates deregulation eez bijiness non sensetheyre reviving economy opposite direction pm cannot acknowledge accept mistake try correct must wmstern concept unlike pms maybach sunglassesi hope keep fucking face huge recession cure fascism recessionother side government exactly takes destroy countrygovernment exact opposite whats needed revive economy jayati ghosh',\n",
       "       'government websites globally shit aussie trying get new medical insurance card week lost wallet hours trying still succeeded wait 34 hours government office apply person indian sites rubbish government sites globallyeven damn delhi university website sucks person likes procastinate stuff till last moment 3 hours exam logged onto du website download admission ticket im sure guessed happened next didnt work website wasnt loading things working perfectly normal wasnt internet called friend see download website wasnt working place either almost 2 hours 45 minutes reached exam centre without admission ticket minutes guards asked us submit bags printing shop nearby thats asked owner shop use internet try download admission ticket gave weird look agreed eventually working got admission ticket 258 exam started 300 pmi feel man selftaught developer say experience government websites badly designed developed ive helped lot local clients upgrade web infrastructure involves rewriting functionality new languages performance gains huge like really huge ultimate goal work indian government migrate outdated infrastructure latest one im learning government tenders existing websites managed existing developers goes well ill eventually form company hire like minded people apply tenders manage indian government websites yeah coming years might see improvements indian government websitesbecause developed interns dont get paid know indians work dont get paid interns think neil patel go develop worst websites world see worst terms accessibility design user friendliness well thats three main things need websitehow one get contract work sitesbecause developed tcs edit want hurt sentiments employees work please explain use fucking marquee banner 2019 please explain use high contrast colours like red blue etc white background apart fact user interface horrible inconsistent different browsers websites clearly cannot handle traffic many famous websites like irctc buckle load would assume backend engineers multi billion dollar company would know concept scaling alas startups less 2 million funding generally handle technology better almost every aspectsame way government ads shown movies suck poorly made looks like shoestring budgetthis site applying oci cards terrible ui verbose tons red fonts causing attention fatigue instead giving context driven options give instructions todos todo https wwwinckgsus oci howtoapply https wwwinckgsus oci howtoapply deleted best viewed 800x600 ie60 belowhey personally know government contractor hes construction business might way things work im going presume tender govt every field basically government releases tender quoted price almost never get tender price line price get contract lower price even means sub par levels construction get need make profits babus outside want cut job well end result roads bridges etc last long make information think goes contracts corruption killed spirit countrybecause made indiathey emphasize laziness quality much like governments want anything world gotta yourselfthe bangalore police website nice agencies put effort dont carewhy government websites suck incompetence prerequisite bidding government webdevelopment projectthe nvsp portal used hundreds millions voters right verify correct voter id details incorrect af begin thats another story web server like government web app server goes anything resembling heavy traffic kind web developers bag tenders cannot anticipate heavy traffic cant use scalable cloud platform load balancers autoorchestrationnow coming nvspspecific problem ive received sms tracking ids says application correction submitted dashboard nvsp portal says submitted tracking application tracking id portal says applications submitted website two different application status different pageswonder much commissions web developers paying government employees bag tenders level inefficiency incompetence unbelievable final year cs students tierii engineering colleges make far reliable available web applicationsend rant thank',\n",
       "       'war memorial new delhi india gate first ever memorial war heroes india #narendramodi',\n",
       "       ...,\n",
       "       'rabiha gold medalist pondicherry university rejected gold medal allegedly denied entry convocation hall president kovind arrived event suspicion could protest caa https twittercom cnnnews18 status 1209085348648607745s19 indians fighting western countries rights wear hijab turban kirpan etc time slowly gonna lose rights back homei saw persons instagram post claiming asked remove hijab false news kept outside hall reasons unknown sucksthe comments article lot bs saw threat security protocol could inspected herutter cowardice uniso got keep hijab avoid puppet president winwin sthis wrong news never asked remove hijab didnt accepted medal protest caa gold medallist kept convocation event https wwwthehinducom news cities puducherry goldmedallistkeptoutatconvocationevent article30383119ecethis misleading title judged clothes refused entry till president left however asked remove hijab #x200b organizers assumed might get political humiliated disgusting sorry go thisfake newsclickbait pondicherry university woman student refuses remove hijab denied permission attend convocation till president kovind left',\n",
       "       'justice mean teenaged nun killed 27 years ago kerala 27 years since sister abhaya killed parents died crucial evidence destroyed key witnesses passed away others turned hostile https wwwthenewsminutecom article whatdoesjusticemeanteenagednunkilled27yearsagokerala108179 cbi reports said day crime march 27 1992 sister abhaya predegree course woke 4 prepare examination way kitchen drink water found father thomas father jose sister stephy objectionable circumstance fearing exposure first accused thomas kottoor allegedly strangulated victim stephy third accused attacked axe three including father jose threw well still alive sister abhaya died due drowning however soon body found crucial evidence case including victims diary clothes time death tampered kt michael man charge preliminary investigations case accused destroying key evidence case aid accused michael man closed case 1992 calling suicideis like happens keepers documentaryfriendly reminder often people religious authority functional atheists believe doctrine preach clearly priest doesnt give fuck god preach dont fear least child abusing priests every religionclearly big dark forces everything _ edit im blocked mods reporting hate speech comment https imgurcom zjtrwng every religion organized crime mafiathis depressing lets say dont hope people power country get punishment deserve crimes like fiction worse women supporting religion https ireddit qpzy23008bn31png people blindly support religious leaders baffle meninth witness sister abhaya murder case turns hostile time roommate',\n",
       "       'timebomb went cannot even imagine scale infection spreads whole slum real nightmarehe passed away source https timesofindiaindiatimescom city mumbai coronavirusinmumbai56yearoldfromdharavitestspositiveforcovid19 articleshow 74936614cmsutm_campaignandapputm_mediumreferralutm_source apna time aa gayaoh fuckaamchi mumbaichi gaand laaglicrisis like epidemics strange way showing mirror real issues put microscope theres escaping anymore stare submission things indians worried current climate everything negligence ruling governments years nothing agendas superfluous best unscrupulous worst anything positive could democratic government pressured put money mouth improvement people matter downtrodden poor may especially theyre downtrodden poor looks hatewing already trying communalise matter instead focusing real challenges well country could prepare futurewere endgame nowhe travel historyguys okay calm government covid19 labs mumbai tests 150 samples per day 5 private hospitals labs tests 100200 samples per day charge upto 4 500 per test even icmr using around 10 total testing capacity numbers always record low even dharavi slum gets affected testing made free cases increase couple 100s still maintain image indias fantastic job well get praised record low covid19 testing caseswell fuckhow many people live areawith bathrooms shared thousands people bound happen proper sanitation housing expect lock practical poor people going pay steepest pricegood luck selfisolating slag gayeand pandoras box openedallah save themfirst coronavirus case reported mumbais dharavi slum'],\n",
       "      dtype=object)"
      ]
     },
     "execution_count": 60,
     "metadata": {},
     "output_type": "execute_result"
    }
   ],
   "source": [
    "X_test.values"
   ]
  },
  {
   "cell_type": "code",
   "execution_count": null,
   "metadata": {},
   "outputs": [],
   "source": []
  }
 ],
 "metadata": {
  "kernelspec": {
   "display_name": "Python 3",
   "language": "python",
   "name": "python3"
  },
  "language_info": {
   "codemirror_mode": {
    "name": "ipython",
    "version": 3
   },
   "file_extension": ".py",
   "mimetype": "text/x-python",
   "name": "python",
   "nbconvert_exporter": "python",
   "pygments_lexer": "ipython3",
   "version": "3.7.6"
  }
 },
 "nbformat": 4,
 "nbformat_minor": 4
}
